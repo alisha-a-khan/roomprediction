{
 "cells": [
  {
   "cell_type": "code",
   "execution_count": 10,
   "id": "9d9977d7",
   "metadata": {},
   "outputs": [],
   "source": [
    "import pickle\n",
    "import pandas as pd\n",
    "with open('/Users/alishakhan/Desktop/Career/Ascent Integrated Tech/task1/CubiCasa5k_git/submission/ignore_outputs/data.pkl', 'rb') as f:\n",
    "    test_embeddings, test_Y, test_df, test_X_all, test_edges_df_list, test_attributes_df_list = pickle.load(f)\n",
    "\n",
    "with open('/Users/alishakhan/Desktop/Career/Ascent Integrated Tech/task1/CubiCasa5k_git/submission/ignore_outputs/test_data.pkl', 'rb') as f:\n",
    "    embeddings, Y, df, X_all, edges_df_list, attributes_df_list = pickle.load(f)\n",
    "\n",
    "Y=Y.argmax(1)\n",
    "test_Y=test_Y.argmax(1)\n",
    "\n",
    "\n",
    "import pickle\n",
    "import pandas as pd\n",
    "\n",
    "with open('/Users/alishakhan/Desktop/Career/Ascent Integrated Tech/task1/CubiCasa5k_git/submission/gnn_input/train_data.pkl', 'rb') as f:\n",
    "    embeddings, Y, df, X_all, edges_df_list, attributes_df_list = pickle.load(f)\n",
    "with open('/Users/alishakhan/Desktop/Career/Ascent Integrated Tech/task1/CubiCasa5k_git/submission/gnn_input/val_data.pkl', 'rb') as f:\n",
    "    val_embeddings, val_Y, val_df, val_X_all, val_edges_df_list, val_attributes_df_list = pickle.load(f)\n",
    "with open('/Users/alishakhan/Desktop/Career/Ascent Integrated Tech/task1/CubiCasa5k_git/submission/gnn_input/test_data.pkl', 'rb') as f:\n",
    "    test_embeddings, test_Y, test_df, test_X_all, test_edges_df_list, test_attributes_df_list = pickle.load(f)\n",
    "\n",
    "Y=Y.argmax(1)\n",
    "val_Y=val_Y.argmax(1)\n",
    "test_Y=test_Y.argmax(1)\n",
    "\n",
    "df=df[['Relative Area', 'Number of neighboring rooms']]\n",
    "val_df=val_df[['Relative Area', 'Number of neighboring rooms']]\n",
    "test_df=test_df[['Relative Area', 'Number of neighboring rooms']]\n"
   ]
  },
  {
   "cell_type": "markdown",
   "id": "767ea1f7",
   "metadata": {},
   "source": [
    "# Logistic Regression"
   ]
  },
  {
   "cell_type": "code",
   "execution_count": 11,
   "id": "f152058e",
   "metadata": {},
   "outputs": [],
   "source": [
    "df=df"
   ]
  },
  {
   "cell_type": "code",
   "execution_count": 12,
   "id": "76306a08",
   "metadata": {},
   "outputs": [
    {
     "name": "stdout",
     "output_type": "stream",
     "text": [
      "              precision    recall  f1-score   support\n",
      "\n",
      "           3       0.37      0.32      0.34        41\n",
      "           4       0.00      0.00      0.00        42\n",
      "           5       0.22      0.38      0.28        53\n",
      "           6       0.35      0.18      0.24        49\n",
      "           7       0.37      0.79      0.50        43\n",
      "           9       0.00      0.00      0.00        15\n",
      "\n",
      "    accuracy                           0.31       243\n",
      "   macro avg       0.22      0.28      0.23       243\n",
      "weighted avg       0.25      0.31      0.26       243\n",
      "\n",
      "Accuracy: 0.31275720164609055\n"
     ]
    },
    {
     "name": "stderr",
     "output_type": "stream",
     "text": [
      "/Users/alishakhan/opt/miniconda3/envs/alishadev/lib/python3.9/site-packages/sklearn/linear_model/_logistic.py:763: ConvergenceWarning: lbfgs failed to converge (status=1):\n",
      "STOP: TOTAL NO. of ITERATIONS REACHED LIMIT.\n",
      "\n",
      "Increase the number of iterations (max_iter) or scale the data as shown in:\n",
      "    https://scikit-learn.org/stable/modules/preprocessing.html\n",
      "Please also refer to the documentation for alternative solver options:\n",
      "    https://scikit-learn.org/stable/modules/linear_model.html#logistic-regression\n",
      "  n_iter_i = _check_optimize_result(\n",
      "/Users/alishakhan/opt/miniconda3/envs/alishadev/lib/python3.9/site-packages/sklearn/metrics/_classification.py:1245: UndefinedMetricWarning: Precision and F-score are ill-defined and being set to 0.0 in labels with no predicted samples. Use `zero_division` parameter to control this behavior.\n",
      "  _warn_prf(average, modifier, msg_start, len(result))\n",
      "/Users/alishakhan/opt/miniconda3/envs/alishadev/lib/python3.9/site-packages/sklearn/metrics/_classification.py:1245: UndefinedMetricWarning: Precision and F-score are ill-defined and being set to 0.0 in labels with no predicted samples. Use `zero_division` parameter to control this behavior.\n",
      "  _warn_prf(average, modifier, msg_start, len(result))\n",
      "/Users/alishakhan/opt/miniconda3/envs/alishadev/lib/python3.9/site-packages/sklearn/metrics/_classification.py:1245: UndefinedMetricWarning: Precision and F-score are ill-defined and being set to 0.0 in labels with no predicted samples. Use `zero_division` parameter to control this behavior.\n",
      "  _warn_prf(average, modifier, msg_start, len(result))\n"
     ]
    }
   ],
   "source": [
    "import pandas as pd\n",
    "from sklearn.linear_model import LogisticRegression\n",
    "from sklearn.metrics import classification_report\n",
    "\n",
    "logreg = LogisticRegression()\n",
    "logreg.fit(df, Y)\n",
    "\n",
    "y_pred=logreg.predict(test_df)\n",
    "\n",
    "print(classification_report(test_Y,y_pred))\n",
    "\n",
    "from sklearn.metrics import accuracy_score\n",
    "\n",
    "# Calculate the accuracy of the model\n",
    "accuracy = accuracy_score(test_Y, y_pred)\n",
    "print('Accuracy:', accuracy)"
   ]
  },
  {
   "cell_type": "markdown",
   "id": "1acaafbf",
   "metadata": {},
   "source": [
    "# Random Forest Classifier"
   ]
  },
  {
   "cell_type": "code",
   "execution_count": 13,
   "id": "f452aba4",
   "metadata": {},
   "outputs": [
    {
     "name": "stdout",
     "output_type": "stream",
     "text": [
      "              precision    recall  f1-score   support\n",
      "\n",
      "           3       0.34      0.32      0.33        41\n",
      "           4       0.21      0.31      0.25        42\n",
      "           5       0.17      0.17      0.17        53\n",
      "           6       0.26      0.20      0.23        49\n",
      "           7       0.39      0.37      0.38        43\n",
      "           9       0.09      0.07      0.08        15\n",
      "\n",
      "    accuracy                           0.26       243\n",
      "   macro avg       0.24      0.24      0.24       243\n",
      "weighted avg       0.26      0.26      0.25       243\n",
      "\n",
      "Accuracy: 0.2551440329218107\n"
     ]
    }
   ],
   "source": [
    "from sklearn.ensemble import RandomForestClassifier\n",
    "\n",
    "\n",
    "# Initialize a random forest model\n",
    "rf = RandomForestClassifier()\n",
    "\n",
    "# Train the model using the training data\n",
    "rf.fit(df, Y)\n",
    "\n",
    "# Make predictions on the testing data\n",
    "y_pred = rf.predict(test_df)\n",
    "\n",
    "# Evaluate the performance of the model\n",
    "print(classification_report(test_Y, y_pred))\n",
    "\n",
    "# Calculate the accuracy of the model\n",
    "accuracy = accuracy_score(test_Y, y_pred)\n",
    "print('Accuracy:', accuracy)\n"
   ]
  },
  {
   "cell_type": "code",
   "execution_count": null,
   "id": "17b5ee7b",
   "metadata": {},
   "outputs": [],
   "source": []
  }
 ],
 "metadata": {
  "kernelspec": {
   "display_name": "Python 3",
   "language": "python",
   "name": "python3"
  },
  "language_info": {
   "codemirror_mode": {
    "name": "ipython",
    "version": 3
   },
   "file_extension": ".py",
   "mimetype": "text/x-python",
   "name": "python",
   "nbconvert_exporter": "python",
   "pygments_lexer": "ipython3",
   "version": "3.9.4"
  }
 },
 "nbformat": 4,
 "nbformat_minor": 5
}
